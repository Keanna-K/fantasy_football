{
 "cells": [
  {
   "cell_type": "markdown",
   "metadata": {},
   "source": [
    "# Data Scraping\n",
    "Author: Keanna Knebel\n",
    "\n",
    "Date: 2020/07/11"
   ]
  },
  {
   "cell_type": "code",
   "execution_count": 40,
   "metadata": {},
   "outputs": [],
   "source": [
    "# Import packages\n",
    "import requests\n",
    "import pandas as pd\n",
    "import re\n",
    "import time\n",
    "\n",
    "from bs4 import BeautifulSoup"
   ]
  },
  {
   "cell_type": "code",
   "execution_count": 108,
   "metadata": {},
   "outputs": [],
   "source": [
    "# initialize empty dataframe\n",
    "df = pd.DataFrame(columns =['Season', 'Week', 'Date', 'Favorite', 'Spread', 'Underdog'])\n",
    "\n",
    "# scrap website for each of the 17 NFL weeks\n",
    "for week in range(1,18):\n",
    "    if week == 17:\n",
    "        page = requests.get(f\"http://www.footballlocks.com/nfl_odds_week_{week}.shtml#Closing%20NFL%20Odds%20Week%20{week},%202016-2017\")\n",
    "    else:\n",
    "        page = requests.get(f\"http://www.footballlocks.com/nfl_odds_week_{week}.shtml#Closing%20NFL%20Odds%20Week%20{week},%202016\")\n",
    "    soup = BeautifulSoup(page.text, 'html.parser')\n",
    "    \n",
    "    # select weekly data tables from web page\n",
    "    weekly_tables = soup.find_all('table', attrs={'width':644})\n",
    "    \n",
    "    # initialize columns for dataframe\n",
    "    date = []\n",
    "    favorite = []\n",
    "    spread = []\n",
    "    underdog = []\n",
    "    df_year = []\n",
    "    \n",
    "    for table in weekly_tables:\n",
    "        \n",
    "        try:\n",
    "            year = table.a['name'][-4:]\n",
    "        except:\n",
    "            year = year\n",
    "        \n",
    "        for rows in table.find_all('tr'):\n",
    "            cols = rows.find_all('td')\n",
    "\n",
    "            if len(cols) == 6:\n",
    "                df_year.append(year)\n",
    "                date.append(cols[0].get_text())\n",
    "                favorite.append(cols[1].get_text())\n",
    "                spread.append(cols[2].get_text())\n",
    "                underdog.append(cols[3].get_text())\n",
    "\n",
    "    # create dataframe from the lists of columns\n",
    "    new_df = pd.DataFrame(list(zip(df_year, date, favorite, spread, underdog)), \n",
    "                       columns =['Season', 'Date', 'Favorite', 'Spread', 'Underdog'])\n",
    "    new_df['Week'] = week\n",
    "    \n",
    "    # clean up dataframe by removing blank and title rows\n",
    "    new_df = new_df.drop_duplicates(subset=['Date', 'Favorite', 'Spread', 'Underdog'], keep=False, ignore_index=True)\n",
    "    \n",
    "    # combine dataframes into one\n",
    "    df = df.append(new_df)\n",
    "    \n",
    "    time.sleep(5)"
   ]
  },
  {
   "cell_type": "code",
   "execution_count": 109,
   "metadata": {},
   "outputs": [
    {
     "data": {
      "text/html": [
       "<div>\n",
       "<style scoped>\n",
       "    .dataframe tbody tr th:only-of-type {\n",
       "        vertical-align: middle;\n",
       "    }\n",
       "\n",
       "    .dataframe tbody tr th {\n",
       "        vertical-align: top;\n",
       "    }\n",
       "\n",
       "    .dataframe thead th {\n",
       "        text-align: right;\n",
       "    }\n",
       "</style>\n",
       "<table border=\"1\" class=\"dataframe\">\n",
       "  <thead>\n",
       "    <tr style=\"text-align: right;\">\n",
       "      <th></th>\n",
       "      <th>Season</th>\n",
       "      <th>Week</th>\n",
       "      <th>Date</th>\n",
       "      <th>Favorite</th>\n",
       "      <th>Spread</th>\n",
       "      <th>Underdog</th>\n",
       "    </tr>\n",
       "  </thead>\n",
       "  <tbody>\n",
       "    <tr>\n",
       "      <th>0</th>\n",
       "      <td>2019</td>\n",
       "      <td>1</td>\n",
       "      <td>9/5 8:20 ET</td>\n",
       "      <td>At Chicago</td>\n",
       "      <td>-3</td>\n",
       "      <td>Green Bay</td>\n",
       "    </tr>\n",
       "    <tr>\n",
       "      <th>1</th>\n",
       "      <td>2019</td>\n",
       "      <td>1</td>\n",
       "      <td>9/8 1:03 ET</td>\n",
       "      <td>At Minnesota</td>\n",
       "      <td>-3.5</td>\n",
       "      <td>Atlanta</td>\n",
       "    </tr>\n",
       "    <tr>\n",
       "      <th>2</th>\n",
       "      <td>2019</td>\n",
       "      <td>1</td>\n",
       "      <td>9/8 1:03 ET</td>\n",
       "      <td>At Philadelphia</td>\n",
       "      <td>-10</td>\n",
       "      <td>Washington</td>\n",
       "    </tr>\n",
       "    <tr>\n",
       "      <th>3</th>\n",
       "      <td>2019</td>\n",
       "      <td>1</td>\n",
       "      <td>9/8 1:03 ET</td>\n",
       "      <td>At NY Jets</td>\n",
       "      <td>-2.5</td>\n",
       "      <td>Buffalo</td>\n",
       "    </tr>\n",
       "    <tr>\n",
       "      <th>4</th>\n",
       "      <td>2019</td>\n",
       "      <td>1</td>\n",
       "      <td>9/8 1:03 ET</td>\n",
       "      <td>Baltimore</td>\n",
       "      <td>-7</td>\n",
       "      <td>At Miami</td>\n",
       "    </tr>\n",
       "    <tr>\n",
       "      <th>...</th>\n",
       "      <td>...</td>\n",
       "      <td>...</td>\n",
       "      <td>...</td>\n",
       "      <td>...</td>\n",
       "      <td>...</td>\n",
       "      <td>...</td>\n",
       "    </tr>\n",
       "    <tr>\n",
       "      <th>201</th>\n",
       "      <td>2006</td>\n",
       "      <td>17</td>\n",
       "      <td>12/31 4:15 ET</td>\n",
       "      <td>At Philadelphia</td>\n",
       "      <td>-6.5</td>\n",
       "      <td>Atlanta</td>\n",
       "    </tr>\n",
       "    <tr>\n",
       "      <th>202</th>\n",
       "      <td>2006</td>\n",
       "      <td>17</td>\n",
       "      <td>12/31 1:00 ET</td>\n",
       "      <td>At Tampa Bay</td>\n",
       "      <td>-3</td>\n",
       "      <td>Seattle</td>\n",
       "    </tr>\n",
       "    <tr>\n",
       "      <th>203</th>\n",
       "      <td>2006</td>\n",
       "      <td>17</td>\n",
       "      <td>12/31 1:00 ET</td>\n",
       "      <td>At Tennessee</td>\n",
       "      <td>-3.5</td>\n",
       "      <td>New England</td>\n",
       "    </tr>\n",
       "    <tr>\n",
       "      <th>204</th>\n",
       "      <td>2006</td>\n",
       "      <td>17</td>\n",
       "      <td>12/31 4:15 ET</td>\n",
       "      <td>At Denver</td>\n",
       "      <td>-11</td>\n",
       "      <td>San Francisco</td>\n",
       "    </tr>\n",
       "    <tr>\n",
       "      <th>205</th>\n",
       "      <td>2006</td>\n",
       "      <td>17</td>\n",
       "      <td>12/31 4:15 ET</td>\n",
       "      <td>At San Diego</td>\n",
       "      <td>-13.5</td>\n",
       "      <td>Arizona</td>\n",
       "    </tr>\n",
       "  </tbody>\n",
       "</table>\n",
       "<p>3365 rows × 6 columns</p>\n",
       "</div>"
      ],
      "text/plain": [
       "    Season Week           Date         Favorite Spread       Underdog\n",
       "0     2019    1    9/5 8:20 ET       At Chicago     -3      Green Bay\n",
       "1     2019    1    9/8 1:03 ET     At Minnesota   -3.5        Atlanta\n",
       "2     2019    1    9/8 1:03 ET  At Philadelphia    -10     Washington\n",
       "3     2019    1    9/8 1:03 ET       At NY Jets   -2.5        Buffalo\n",
       "4     2019    1    9/8 1:03 ET        Baltimore     -7       At Miami\n",
       "..     ...  ...            ...              ...    ...            ...\n",
       "201   2006   17  12/31 4:15 ET  At Philadelphia   -6.5        Atlanta\n",
       "202   2006   17  12/31 1:00 ET     At Tampa Bay     -3        Seattle\n",
       "203   2006   17  12/31 1:00 ET     At Tennessee   -3.5    New England\n",
       "204   2006   17  12/31 4:15 ET        At Denver    -11  San Francisco\n",
       "205   2006   17  12/31 4:15 ET     At San Diego  -13.5        Arizona\n",
       "\n",
       "[3365 rows x 6 columns]"
      ]
     },
     "execution_count": 109,
     "metadata": {},
     "output_type": "execute_result"
    }
   ],
   "source": [
    "df"
   ]
  },
  {
   "cell_type": "code",
   "execution_count": 43,
   "metadata": {},
   "outputs": [],
   "source": [
    "# set 'PK' spread to zero \n",
    "df.Spread[df.Spread == 'PK'] = 0"
   ]
  },
  {
   "cell_type": "code",
   "execution_count": 62,
   "metadata": {},
   "outputs": [],
   "source": [
    "# search for postponed or delayed games\n",
    "df[\"Postponed\"] = [re.search(\"postponed|delay\", x, re.I) for x in df.Date]"
   ]
  },
  {
   "cell_type": "code",
   "execution_count": 68,
   "metadata": {},
   "outputs": [],
   "source": [
    "df.Postponed[-df.Postponed.isnull()] = 1\n",
    "df.Postponed[df.Postponed.isnull()] = 0\n",
    "# iloc 144"
   ]
  },
  {
   "cell_type": "code",
   "execution_count": 73,
   "metadata": {},
   "outputs": [
    {
     "data": {
      "text/html": [
       "<div>\n",
       "<style scoped>\n",
       "    .dataframe tbody tr th:only-of-type {\n",
       "        vertical-align: middle;\n",
       "    }\n",
       "\n",
       "    .dataframe tbody tr th {\n",
       "        vertical-align: top;\n",
       "    }\n",
       "\n",
       "    .dataframe thead th {\n",
       "        text-align: right;\n",
       "    }\n",
       "</style>\n",
       "<table border=\"1\" class=\"dataframe\">\n",
       "  <thead>\n",
       "    <tr style=\"text-align: right;\">\n",
       "      <th></th>\n",
       "      <th>Year</th>\n",
       "      <th>Week</th>\n",
       "      <th>Date</th>\n",
       "      <th>Favorite</th>\n",
       "      <th>Spread</th>\n",
       "      <th>Underdog</th>\n",
       "      <th>Postponed</th>\n",
       "    </tr>\n",
       "  </thead>\n",
       "  <tbody>\n",
       "    <tr>\n",
       "      <th>39</th>\n",
       "      <td>2017</td>\n",
       "      <td>1</td>\n",
       "      <td>9/10 1:00 ET\\nPostponed</td>\n",
       "      <td>Tampa Bay</td>\n",
       "      <td>-2.5</td>\n",
       "      <td>At Miami</td>\n",
       "      <td>1</td>\n",
       "    </tr>\n",
       "    <tr>\n",
       "      <th>191</th>\n",
       "      <td>2008</td>\n",
       "      <td>2</td>\n",
       "      <td>Postponedto Week 10</td>\n",
       "      <td>At Houston</td>\n",
       "      <td>-4.5</td>\n",
       "      <td>Baltimore</td>\n",
       "      <td>1</td>\n",
       "    </tr>\n",
       "    <tr>\n",
       "      <th>126</th>\n",
       "      <td>2010</td>\n",
       "      <td>5</td>\n",
       "      <td>10/11 8:35 ET\\n\\nDelay 9:15 ET\\n</td>\n",
       "      <td>At NY Jets</td>\n",
       "      <td>-4</td>\n",
       "      <td>Minnesota</td>\n",
       "      <td>1</td>\n",
       "    </tr>\n",
       "    <tr>\n",
       "      <th>133</th>\n",
       "      <td>2010</td>\n",
       "      <td>14</td>\n",
       "      <td>Postponed to\\nMonday 7:20 ET</td>\n",
       "      <td>NY Giants</td>\n",
       "      <td>-5</td>\n",
       "      <td>At Minnesota</td>\n",
       "      <td>1</td>\n",
       "    </tr>\n",
       "    <tr>\n",
       "      <th>131</th>\n",
       "      <td>2010</td>\n",
       "      <td>16</td>\n",
       "      <td>Postponed to\\nTuesday 8:00 ET</td>\n",
       "      <td>At Philadelphia</td>\n",
       "      <td>-14</td>\n",
       "      <td>Minnesota</td>\n",
       "      <td>1</td>\n",
       "    </tr>\n",
       "  </tbody>\n",
       "</table>\n",
       "</div>"
      ],
      "text/plain": [
       "     Year Week                              Date         Favorite Spread  \\\n",
       "39   2017    1           9/10 1:00 ET\\nPostponed        Tampa Bay   -2.5   \n",
       "191  2008    2               Postponedto Week 10       At Houston   -4.5   \n",
       "126  2010    5  10/11 8:35 ET\\n\\nDelay 9:15 ET\\n       At NY Jets     -4   \n",
       "133  2010   14      Postponed to\\nMonday 7:20 ET        NY Giants     -5   \n",
       "131  2010   16     Postponed to\\nTuesday 8:00 ET  At Philadelphia    -14   \n",
       "\n",
       "         Underdog Postponed  \n",
       "39       At Miami         1  \n",
       "191     Baltimore         1  \n",
       "126     Minnesota         1  \n",
       "133  At Minnesota         1  \n",
       "131     Minnesota         1  "
      ]
     },
     "execution_count": 73,
     "metadata": {},
     "output_type": "execute_result"
    }
   ],
   "source": [
    "df[df.Postponed == 1]"
   ]
  },
  {
   "cell_type": "code",
   "execution_count": 105,
   "metadata": {},
   "outputs": [
    {
     "data": {
      "text/plain": [
       "array(['2018', '2017', '2016', '2014', '2013', '2012', '1-12', '2011',\n",
       "       '2010', '2008', '2007', '2006'], dtype=object)"
      ]
     },
     "execution_count": 105,
     "metadata": {},
     "output_type": "execute_result"
    }
   ],
   "source": [
    "#pd.to_numeric(df[\"Year\"])\n",
    "df.Year.unique()\n",
    "df2 = df[df.Week == 17]\n",
    "df2.Year.unique()"
   ]
  },
  {
   "cell_type": "code",
   "execution_count": 36,
   "metadata": {},
   "outputs": [
    {
     "ename": "KeyError",
     "evalue": "1",
     "output_type": "error",
     "traceback": [
      "\u001b[0;31m---------------------------------------------------------------------------\u001b[0m",
      "\u001b[0;31mValueError\u001b[0m                                Traceback (most recent call last)",
      "\u001b[0;32m~/anaconda3/lib/python3.7/site-packages/pandas/core/indexes/range.py\u001b[0m in \u001b[0;36mget_loc\u001b[0;34m(self, key, method, tolerance)\u001b[0m\n\u001b[1;32m    349\u001b[0m             \u001b[0;32mtry\u001b[0m\u001b[0;34m:\u001b[0m\u001b[0;34m\u001b[0m\u001b[0;34m\u001b[0m\u001b[0m\n\u001b[0;32m--> 350\u001b[0;31m                 \u001b[0;32mreturn\u001b[0m \u001b[0mself\u001b[0m\u001b[0;34m.\u001b[0m\u001b[0m_range\u001b[0m\u001b[0;34m.\u001b[0m\u001b[0mindex\u001b[0m\u001b[0;34m(\u001b[0m\u001b[0mnew_key\u001b[0m\u001b[0;34m)\u001b[0m\u001b[0;34m\u001b[0m\u001b[0;34m\u001b[0m\u001b[0m\n\u001b[0m\u001b[1;32m    351\u001b[0m             \u001b[0;32mexcept\u001b[0m \u001b[0mValueError\u001b[0m\u001b[0;34m:\u001b[0m\u001b[0;34m\u001b[0m\u001b[0;34m\u001b[0m\u001b[0m\n",
      "\u001b[0;31mValueError\u001b[0m: 1 is not in range",
      "\nDuring handling of the above exception, another exception occurred:\n",
      "\u001b[0;31mKeyError\u001b[0m                                  Traceback (most recent call last)",
      "\u001b[0;32m<ipython-input-36-34b4978a5a59>\u001b[0m in \u001b[0;36m<module>\u001b[0;34m\u001b[0m\n\u001b[1;32m      5\u001b[0m \u001b[0;34m\u001b[0m\u001b[0m\n\u001b[1;32m      6\u001b[0m \u001b[0;31m# making separate last name column from new data frame\u001b[0m\u001b[0;34m\u001b[0m\u001b[0;34m\u001b[0m\u001b[0;34m\u001b[0m\u001b[0m\n\u001b[0;32m----> 7\u001b[0;31m \u001b[0mdf\u001b[0m\u001b[0;34m[\u001b[0m\u001b[0;34m\"Time\"\u001b[0m\u001b[0;34m]\u001b[0m\u001b[0;34m=\u001b[0m \u001b[0msplit_date\u001b[0m\u001b[0;34m[\u001b[0m\u001b[0;36m1\u001b[0m\u001b[0;34m]\u001b[0m\u001b[0;34m\u001b[0m\u001b[0;34m\u001b[0m\u001b[0m\n\u001b[0m\u001b[1;32m      8\u001b[0m \u001b[0;34m\u001b[0m\u001b[0m\n\u001b[1;32m      9\u001b[0m \u001b[0mdf\u001b[0m\u001b[0;34m.\u001b[0m\u001b[0mTime\u001b[0m\u001b[0;34m\u001b[0m\u001b[0;34m\u001b[0m\u001b[0m\n",
      "\u001b[0;32m~/anaconda3/lib/python3.7/site-packages/pandas/core/frame.py\u001b[0m in \u001b[0;36m__getitem__\u001b[0;34m(self, key)\u001b[0m\n\u001b[1;32m   2798\u001b[0m             \u001b[0;32mif\u001b[0m \u001b[0mself\u001b[0m\u001b[0;34m.\u001b[0m\u001b[0mcolumns\u001b[0m\u001b[0;34m.\u001b[0m\u001b[0mnlevels\u001b[0m \u001b[0;34m>\u001b[0m \u001b[0;36m1\u001b[0m\u001b[0;34m:\u001b[0m\u001b[0;34m\u001b[0m\u001b[0;34m\u001b[0m\u001b[0m\n\u001b[1;32m   2799\u001b[0m                 \u001b[0;32mreturn\u001b[0m \u001b[0mself\u001b[0m\u001b[0;34m.\u001b[0m\u001b[0m_getitem_multilevel\u001b[0m\u001b[0;34m(\u001b[0m\u001b[0mkey\u001b[0m\u001b[0;34m)\u001b[0m\u001b[0;34m\u001b[0m\u001b[0;34m\u001b[0m\u001b[0m\n\u001b[0;32m-> 2800\u001b[0;31m             \u001b[0mindexer\u001b[0m \u001b[0;34m=\u001b[0m \u001b[0mself\u001b[0m\u001b[0;34m.\u001b[0m\u001b[0mcolumns\u001b[0m\u001b[0;34m.\u001b[0m\u001b[0mget_loc\u001b[0m\u001b[0;34m(\u001b[0m\u001b[0mkey\u001b[0m\u001b[0;34m)\u001b[0m\u001b[0;34m\u001b[0m\u001b[0;34m\u001b[0m\u001b[0m\n\u001b[0m\u001b[1;32m   2801\u001b[0m             \u001b[0;32mif\u001b[0m \u001b[0mis_integer\u001b[0m\u001b[0;34m(\u001b[0m\u001b[0mindexer\u001b[0m\u001b[0;34m)\u001b[0m\u001b[0;34m:\u001b[0m\u001b[0;34m\u001b[0m\u001b[0;34m\u001b[0m\u001b[0m\n\u001b[1;32m   2802\u001b[0m                 \u001b[0mindexer\u001b[0m \u001b[0;34m=\u001b[0m \u001b[0;34m[\u001b[0m\u001b[0mindexer\u001b[0m\u001b[0;34m]\u001b[0m\u001b[0;34m\u001b[0m\u001b[0;34m\u001b[0m\u001b[0m\n",
      "\u001b[0;32m~/anaconda3/lib/python3.7/site-packages/pandas/core/indexes/range.py\u001b[0m in \u001b[0;36mget_loc\u001b[0;34m(self, key, method, tolerance)\u001b[0m\n\u001b[1;32m    350\u001b[0m                 \u001b[0;32mreturn\u001b[0m \u001b[0mself\u001b[0m\u001b[0;34m.\u001b[0m\u001b[0m_range\u001b[0m\u001b[0;34m.\u001b[0m\u001b[0mindex\u001b[0m\u001b[0;34m(\u001b[0m\u001b[0mnew_key\u001b[0m\u001b[0;34m)\u001b[0m\u001b[0;34m\u001b[0m\u001b[0;34m\u001b[0m\u001b[0m\n\u001b[1;32m    351\u001b[0m             \u001b[0;32mexcept\u001b[0m \u001b[0mValueError\u001b[0m\u001b[0;34m:\u001b[0m\u001b[0;34m\u001b[0m\u001b[0;34m\u001b[0m\u001b[0m\n\u001b[0;32m--> 352\u001b[0;31m                 \u001b[0;32mraise\u001b[0m \u001b[0mKeyError\u001b[0m\u001b[0;34m(\u001b[0m\u001b[0mkey\u001b[0m\u001b[0;34m)\u001b[0m\u001b[0;34m\u001b[0m\u001b[0;34m\u001b[0m\u001b[0m\n\u001b[0m\u001b[1;32m    353\u001b[0m         \u001b[0;32mreturn\u001b[0m \u001b[0msuper\u001b[0m\u001b[0;34m(\u001b[0m\u001b[0;34m)\u001b[0m\u001b[0;34m.\u001b[0m\u001b[0mget_loc\u001b[0m\u001b[0;34m(\u001b[0m\u001b[0mkey\u001b[0m\u001b[0;34m,\u001b[0m \u001b[0mmethod\u001b[0m\u001b[0;34m=\u001b[0m\u001b[0mmethod\u001b[0m\u001b[0;34m,\u001b[0m \u001b[0mtolerance\u001b[0m\u001b[0;34m=\u001b[0m\u001b[0mtolerance\u001b[0m\u001b[0;34m)\u001b[0m\u001b[0;34m\u001b[0m\u001b[0;34m\u001b[0m\u001b[0m\n\u001b[1;32m    354\u001b[0m \u001b[0;34m\u001b[0m\u001b[0m\n",
      "\u001b[0;31mKeyError\u001b[0m: 1"
     ]
    }
   ],
   "source": [
    "split_date = df.Date.str.split(n = 1, expand = True) \n",
    "\n",
    "# making separate first name column from new data frame \n",
    "df[\"Date\"]= split_date[0] \n",
    "  \n",
    "# making separate last name column from new data frame \n",
    "df[\"Time\"]= split_date[1] "
   ]
  },
  {
   "cell_type": "code",
   "execution_count": 39,
   "metadata": {},
   "outputs": [
    {
     "data": {
      "text/plain": [
       "array(['8:20 ET', '1:03 ET', '4:25 ET', '4:05 ET', '7:10 ET', '10:15 ET',\n",
       "       '1:00 ET', '10:20 ET', '8:30 ET', '1:00 ET\\nPostponed', '8:35 ET',\n",
       "       '10:25 ET', '8:25 ET', '7:00 ET', '4:15 ET', '8:15 ET', '8:40 ET',\n",
       "       'Week 10', '9:30 ET', '9:30 AM', '1;00 ET', '11:35 ET',\n",
       "       '8:35 ET\\n\\nDelay 9:15 ET\\n', '12:35 ET', '4:30 ET', '12:30 ET',\n",
       "       '1:00 ET\\nPPD to MNF', '8:00 ET', 'to\\nMonday 7:20 ET', '7:20 ET',\n",
       "       '7:30 ET', 'to\\nTuesday 8:00 ET', '5:00 ET'], dtype=object)"
      ]
     },
     "execution_count": 39,
     "metadata": {},
     "output_type": "execute_result"
    }
   ],
   "source": [
    "df.Time.unique()"
   ]
  },
  {
   "cell_type": "code",
   "execution_count": null,
   "metadata": {},
   "outputs": [],
   "source": [
    "## TO DO ##\n",
    "\n",
    "# clean date column\n",
    "# remove 'at' from team names"
   ]
  }
 ],
 "metadata": {
  "kernelspec": {
   "display_name": "Python 3",
   "language": "python",
   "name": "python3"
  },
  "language_info": {
   "codemirror_mode": {
    "name": "ipython",
    "version": 3
   },
   "file_extension": ".py",
   "mimetype": "text/x-python",
   "name": "python",
   "nbconvert_exporter": "python",
   "pygments_lexer": "ipython3",
   "version": "3.7.7"
  }
 },
 "nbformat": 4,
 "nbformat_minor": 4
}
